{
 "cells": [
  {
   "cell_type": "code",
   "execution_count": null,
   "metadata": {
    "collapsed": true
   },
   "outputs": [],
   "source": [
    "import pandas as pd\n",
    "import numpy as np\n",
    "import matplotlib.pyplot as plt\n",
    "from scipy.stats import skew\n",
    "\n",
    "# Generate sample data\n",
    "np.random.seed(0)\n",
    "data = np.random.exponential(scale=2, size=1000)  # Positively skewed data\n",
    "\n",
    "# Create a DataFrame\n",
    "df = pd.DataFrame(data, columns=['value'])\n",
    "\n",
    "# Calculate skewness\n",
    "skewness = skew(df['value'])\n",
    "print(f'Skewness: {skewness}')\n",
    "\n",
    "# Plot histogram\n",
    "plt.hist(df['value'], bins=30, edgecolor='k')\n",
    "plt.title('Histogram of Data')\n",
    "plt.xlabel('Value')\n",
    "plt.ylabel('Frequency')\n",
    "plt.show()\n",
    "\n",
    "# Plot box plot\n",
    "plt.boxplot(df['value'], vert=False)\n",
    "plt.title('Box Plot of Data')\n",
    "plt.xlabel('Value')\n",
    "plt.show()"
   ]
  }
 ],
 "metadata": {
  "kernelspec": {
   "display_name": "Python 3",
   "language": "python",
   "name": "python3"
  },
  "language_info": {
   "codemirror_mode": {
    "name": "ipython",
    "version": 2
   },
   "file_extension": ".py",
   "mimetype": "text/x-python",
   "name": "python",
   "nbconvert_exporter": "python",
   "pygments_lexer": "ipython2",
   "version": "2.7.6"
  }
 },
 "nbformat": 4,
 "nbformat_minor": 0
}